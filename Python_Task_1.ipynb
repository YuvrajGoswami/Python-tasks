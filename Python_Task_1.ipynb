{
  "nbformat": 4,
  "nbformat_minor": 0,
  "metadata": {
    "colab": {
      "provenance": []
    },
    "kernelspec": {
      "name": "python3",
      "display_name": "Python 3"
    },
    "language_info": {
      "name": "python"
    }
  },
  "cells": [
    {
      "cell_type": "markdown",
      "source": [
        "# Task"
      ],
      "metadata": {
        "id": "xnZQcVwX7C5D"
      }
    },
    {
      "cell_type": "markdown",
      "source": [
        "**Find the sum of the series upto n terms. Series should be of the type n+nn+nnn+nnnn+….. The number in the series and number of elements  in the series should be taken from the user as input.**\n"
      ],
      "metadata": {
        "id": "P2C6ctua6rWr"
      }
    },
    {
      "cell_type": "markdown",
      "source": [
        "# Solution"
      ],
      "metadata": {
        "id": "nNq5Jq_s7RcJ"
      }
    },
    {
      "cell_type": "code",
      "execution_count": 29,
      "metadata": {
        "colab": {
          "base_uri": "https://localhost:8080/"
        },
        "id": "nROg5b6Te0jN",
        "outputId": "3e4ad77f-3c0c-4c3b-bc1f-88e7ec861199"
      },
      "outputs": [
        {
          "name": "stdout",
          "output_type": "stream",
          "text": [
            "How many numbers you want to have in series 4\n",
            "Which no.you want to have in the series 4\n"
          ]
        }
      ],
      "source": [
        "n = int(input(\"How many numbers you want to have in series \"))\n",
        "m = int(input(\"Which no.you want to have in the series \"))\n",
        "m = str(m)"
      ]
    },
    {
      "cell_type": "code",
      "source": [
        "sum = \"\"\n",
        "for i in range(1,n):\n",
        "    sum = sum + m*i + \" \" + \"+\" + \" \"\n",
        "print(sum,m*n)"
      ],
      "metadata": {
        "colab": {
          "base_uri": "https://localhost:8080/"
        },
        "id": "wjGU1fkLe7WS",
        "outputId": "b8eeeb94-7b86-4897-8153-6103fdc9ced0"
      },
      "execution_count": 30,
      "outputs": [
        {
          "output_type": "stream",
          "name": "stdout",
          "text": [
            "4 + 44 + 444 +  4444\n"
          ]
        }
      ]
    },
    {
      "cell_type": "code",
      "source": [
        ""
      ],
      "metadata": {
        "id": "xL_sy31Ke79o"
      },
      "execution_count": null,
      "outputs": []
    }
  ]
}