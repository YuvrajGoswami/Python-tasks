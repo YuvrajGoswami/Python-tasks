{
  "nbformat": 4,
  "nbformat_minor": 0,
  "metadata": {
    "colab": {
      "provenance": []
    },
    "kernelspec": {
      "name": "python3",
      "display_name": "Python 3"
    },
    "language_info": {
      "name": "python"
    }
  },
  "cells": [
    {
      "cell_type": "markdown",
      "source": [
        "# Task"
      ],
      "metadata": {
        "id": "eGdxTAZ3Hwn8"
      }
    },
    {
      "cell_type": "markdown",
      "source": [
        "Take an input n from the user that tells the systems the number of elements the user is goung to enter.\n",
        "WAP to take in , n, int inputs from the user and find the sum of all the even numbers without using the concepts of complex\n",
        "data types and count the number of odd numbers.\n"
      ],
      "metadata": {
        "id": "aXKBhJXAHuUe"
      }
    },
    {
      "cell_type": "markdown",
      "source": [
        "# Solution"
      ],
      "metadata": {
        "id": "_73gicGCHzHN"
      }
    },
    {
      "cell_type": "code",
      "execution_count": 19,
      "metadata": {
        "colab": {
          "base_uri": "https://localhost:8080/"
        },
        "id": "Tse3ZYDYHnld",
        "outputId": "9fdf60be-4c03-41a1-871d-f84e59d16dc6"
      },
      "outputs": [
        {
          "name": "stdout",
          "output_type": "stream",
          "text": [
            "How many numbers you want to enter 3\n"
          ]
        }
      ],
      "source": [
        "Total = int(input(\"How many numbers you want to enter \"))"
      ]
    },
    {
      "cell_type": "code",
      "source": [
        "sum = 0\n",
        "count = 0\n",
        "for i in range(1,Total+1):\n",
        "  num = int(input(\"Enter your \"+str(i)+\" number \"))\n",
        "  if num % 2 == 0:\n",
        "    sum += num\n",
        "  elif num % 2!= 0:\n",
        "    count+=1\n",
        "print(\"Sum of all even numbers :\", sum)\n",
        "print(\"No. of odd numbers :\", count)"
      ],
      "metadata": {
        "colab": {
          "base_uri": "https://localhost:8080/"
        },
        "id": "idN4EfflIvsh",
        "outputId": "ff285f4e-ee36-4119-c1c7-4965f7fb0fdc"
      },
      "execution_count": 23,
      "outputs": [
        {
          "output_type": "stream",
          "name": "stdout",
          "text": [
            "Enter your 1 number 1\n",
            "Enter your 2 number 2\n",
            "Enter your 3 number 3\n",
            "Sum of all even numbers : 2\n",
            "No. of odd numbers : 2\n"
          ]
        }
      ]
    },
    {
      "cell_type": "code",
      "source": [
        "22"
      ],
      "metadata": {
        "id": "wrKYH7D0Jb2h"
      },
      "execution_count": null,
      "outputs": []
    }
  ]
}