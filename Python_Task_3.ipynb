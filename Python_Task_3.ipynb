{
  "nbformat": 4,
  "nbformat_minor": 0,
  "metadata": {
    "colab": {
      "provenance": []
    },
    "kernelspec": {
      "name": "python3",
      "display_name": "Python 3"
    },
    "language_info": {
      "name": "python"
    }
  },
  "cells": [
    {
      "cell_type": "markdown",
      "source": [
        "# Task 3"
      ],
      "metadata": {
        "id": "490hQUPTrwE5"
      }
    },
    {
      "cell_type": "markdown",
      "source": [
        "Given an integer, n, perform the following conditional actions:\n",
        "\n",
        "If  is odd, print Weird\n",
        "If  is even and in the inclusive range of  2 to 5 , print Not Weird\n",
        "If  is even and in the inclusive range of 6 to 20, print Weird\n",
        "If  is even and greater than 20, print Not Weird\n",
        "\n",
        "Input Format\n",
        "\n",
        "A single line containing a positive integer, n.\n",
        "\n",
        "Constraints\n",
        "1<=n<=100\n",
        "Output Format\n",
        "Print Weird if the number is weird. Otherwise, print Not Weird.\n"
      ],
      "metadata": {
        "id": "g4C6AtMPrs6a"
      }
    },
    {
      "cell_type": "markdown",
      "source": [
        "# Solution"
      ],
      "metadata": {
        "id": "D7V_T-jrr4V1"
      }
    },
    {
      "cell_type": "code",
      "source": [
        "n = int(input(\"Enter a number\"))\n",
        "if n % 2 != 0:\n",
        "  print(\"Weird\")\n",
        "elif n % 2 == 0 and 2<=n<=5:\n",
        "  print(\"Not Weird\")\n",
        "elif n % 2 ==0 and 6<=n<=20:\n",
        "  print(\"Weird\")\n",
        "else:\n",
        "  print(\"Not Weird\")"
      ],
      "metadata": {
        "colab": {
          "base_uri": "https://localhost:8080/"
        },
        "id": "jLB5mV3P0m8g",
        "outputId": "a172810c-2985-4fb2-8d9d-fc395b344c46"
      },
      "execution_count": 8,
      "outputs": [
        {
          "output_type": "stream",
          "name": "stdout",
          "text": [
            "Enter a number24\n",
            "Not Weird\n"
          ]
        }
      ]
    },
    {
      "cell_type": "code",
      "source": [],
      "metadata": {
        "id": "qAGgGx0940th"
      },
      "execution_count": 6,
      "outputs": []
    }
  ]
}