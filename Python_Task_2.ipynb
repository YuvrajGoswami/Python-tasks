{
  "cells": [
    {
      "cell_type": "markdown",
      "metadata": {
        "id": "TkB4iv_w85kR"
      },
      "source": [
        "# Task"
      ]
    },
    {
      "cell_type": "markdown",
      "metadata": {
        "id": "yAowHMcp82O6"
      },
      "source": [
        "**Find the factorial of a given number n. Factorial of 5 = 1*2*3*4*5 = 120**\n"
      ]
    },
    {
      "cell_type": "markdown",
      "metadata": {
        "id": "wopUW8CK9Bcy"
      },
      "source": [
        "# Solution"
      ]
    },
    {
      "cell_type": "markdown",
      "source": [
        "**Taking user input**"
      ],
      "metadata": {
        "id": "mTcYWZwdLrun"
      }
    },
    {
      "cell_type": "code",
      "execution_count": 17,
      "metadata": {
        "id": "l5VYL3Ia8ygG",
        "colab": {
          "base_uri": "https://localhost:8080/"
        },
        "outputId": "2a405725-92f3-4378-85e9-0b6ecf0ce16c"
      },
      "outputs": [
        {
          "name": "stdout",
          "output_type": "stream",
          "text": [
            "Enter a number to find the factorial : 3\n"
          ]
        }
      ],
      "source": [
        "n = int(input(\"Enter a number to find the factorial : \"))"
      ]
    },
    {
      "cell_type": "markdown",
      "source": [
        "**Defining variables**"
      ],
      "metadata": {
        "id": "a_dE1JULLzw2"
      }
    },
    {
      "cell_type": "code",
      "source": [
        "multiply = 1\n",
        "string = \"\""
      ],
      "metadata": {
        "id": "f9EvzdU2GKWE"
      },
      "execution_count": 18,
      "outputs": []
    },
    {
      "cell_type": "markdown",
      "source": [
        "**Final answer**"
      ],
      "metadata": {
        "id": "o-k4CihPL7CQ"
      }
    },
    {
      "cell_type": "code",
      "execution_count": 19,
      "metadata": {
        "colab": {
          "base_uri": "https://localhost:8080/"
        },
        "id": "6mAtAQdXI_at",
        "outputId": "51d1a633-4f54-4390-96f5-d0acb7b418c9"
      },
      "outputs": [
        {
          "output_type": "stream",
          "name": "stdout",
          "text": [
            "Factorial of  3 = 1 * 2 *  3 = 6\n"
          ]
        }
      ],
      "source": [
        "for i in range(1,n):\n",
        "  multiply *= i\n",
        "  string += str(i) + \" \" + \"*\" + \" \"\n",
        "print(\"Factorial of \",n, \"=\", string,n, \"=\", multiply*n)\n"
      ]
    },
    {
      "cell_type": "code",
      "execution_count": null,
      "metadata": {
        "id": "FWr_2NlmJJA9"
      },
      "outputs": [],
      "source": []
    }
  ],
  "metadata": {
    "colab": {
      "provenance": []
    },
    "kernelspec": {
      "display_name": "Python 3",
      "name": "python3"
    },
    "language_info": {
      "name": "python"
    }
  },
  "nbformat": 4,
  "nbformat_minor": 0
}